{
 "cells": [
  {
   "cell_type": "code",
   "execution_count": 1,
   "id": "7a9c34b3-e148-4f10-89f5-c4dcb5ae5443",
   "metadata": {},
   "outputs": [
    {
     "name": "stdout",
     "output_type": "stream",
     "text": [
      "Hello World!\n"
     ]
    }
   ],
   "source": [
    "print(\"Hello World!\")"
   ]
  },
  {
   "cell_type": "code",
   "execution_count": 2,
   "id": "97b324c3-b6c2-421b-9be5-b999ab6774b3",
   "metadata": {},
   "outputs": [
    {
     "data": {
      "text/plain": [
       "2"
      ]
     },
     "execution_count": 2,
     "metadata": {},
     "output_type": "execute_result"
    }
   ],
   "source": [
    "1+1"
   ]
  },
  {
   "cell_type": "code",
   "execution_count": 20,
   "id": "382e1d9c-c825-48d4-bd2a-c05dc28c9e3e",
   "metadata": {},
   "outputs": [],
   "source": [
    "#Variables"
   ]
  },
  {
   "cell_type": "code",
   "execution_count": 3,
   "id": "7222cef0-b364-484f-b6af-cd8ec6428082",
   "metadata": {},
   "outputs": [],
   "source": [
    "Rooney_goals= 15\n",
    "Rooney_shots= 63\n",
    "Rooney_conversion= Rooney_goals/Rooney_shots"
   ]
  },
  {
   "cell_type": "code",
   "execution_count": 4,
   "id": "2961ae59-50a8-4e4e-88e7-d8697cbcba68",
   "metadata": {},
   "outputs": [
    {
     "data": {
      "text/plain": [
       "0.23809523809523808"
      ]
     },
     "execution_count": 4,
     "metadata": {},
     "output_type": "execute_result"
    }
   ],
   "source": [
    "Rooney_conversion"
   ]
  },
  {
   "cell_type": "code",
   "execution_count": 19,
   "id": "87759b0d-20da-4204-9f61-89a9262bd3eb",
   "metadata": {},
   "outputs": [],
   "source": [
    "#Comparisions"
   ]
  },
  {
   "cell_type": "code",
   "execution_count": 5,
   "id": "a847a308-e547-47bd-bf05-d85047d8a469",
   "metadata": {},
   "outputs": [
    {
     "data": {
      "text/plain": [
       "True"
      ]
     },
     "execution_count": 5,
     "metadata": {},
     "output_type": "execute_result"
    }
   ],
   "source": [
    "4>3"
   ]
  },
  {
   "cell_type": "code",
   "execution_count": 6,
   "id": "5f061cec-9304-4064-b919-e8b1136e245b",
   "metadata": {},
   "outputs": [],
   "source": [
    "Garrerd=99\n",
    "Landard=98"
   ]
  },
  {
   "cell_type": "code",
   "execution_count": 7,
   "id": "b12b46e4-3f0a-475c-afa3-46c326dfe553",
   "metadata": {},
   "outputs": [
    {
     "data": {
      "text/plain": [
       "True"
      ]
     },
     "execution_count": 7,
     "metadata": {},
     "output_type": "execute_result"
    }
   ],
   "source": [
    "Garrerd>Landard"
   ]
  },
  {
   "cell_type": "code",
   "execution_count": 11,
   "id": "9cf54604-dfa9-4001-bc78-aa39bf968bde",
   "metadata": {},
   "outputs": [],
   "source": [
    "Herdergoals=9\n",
    "Herderassists=16"
   ]
  },
  {
   "cell_type": "code",
   "execution_count": 12,
   "id": "642ed004-3d8c-4528-901c-61a051188cf7",
   "metadata": {},
   "outputs": [
    {
     "data": {
      "text/plain": [
       "True"
      ]
     },
     "execution_count": 12,
     "metadata": {},
     "output_type": "execute_result"
    }
   ],
   "source": [
    "(Herdergoals>10) or (Herderassists>15)"
   ]
  },
  {
   "cell_type": "markdown",
   "id": "b3c794df-62a0-49d5-a96d-0dd069b04c2b",
   "metadata": {},
   "source": [
    "merthagoals=5\n",
    "merthaassists=10\n",
    "mertharedcards=3"
   ]
  },
  {
   "cell_type": "code",
   "execution_count": 13,
   "id": "a043e3d9-3b09-46b0-8b61-7705243236e6",
   "metadata": {},
   "outputs": [],
   "source": [
    "merthagoals=5\n",
    "merthaassists=10\n",
    "mertharedcards=3"
   ]
  },
  {
   "cell_type": "code",
   "execution_count": 14,
   "id": "74e7ad02-dd23-4196-80c1-10d6d1bf0eff",
   "metadata": {},
   "outputs": [
    {
     "data": {
      "text/plain": [
       "False"
      ]
     },
     "execution_count": 14,
     "metadata": {},
     "output_type": "execute_result"
    }
   ],
   "source": [
    "((merthagoals>5) or (merthaassists>=10)) and (mertharedcards<3)"
   ]
  },
  {
   "cell_type": "code",
   "execution_count": 18,
   "id": "897fe661-bc1e-4aff-9fe1-1dde80256852",
   "metadata": {},
   "outputs": [],
   "source": [
    "#If Else Statements"
   ]
  },
  {
   "cell_type": "code",
   "execution_count": 16,
   "id": "ecfe5c99-1a96-42eb-b2ac-37e532424433",
   "metadata": {},
   "outputs": [
    {
     "name": "stdout",
     "output_type": "stream",
     "text": [
      "Stay solid, But exploit opportunity!\n"
     ]
    }
   ],
   "source": [
    "oldcastlescore=0\n",
    "opponentscore=0\n",
    "if (oldcastlescore<opponentscore):\n",
    "    print(\"Attack Attack Attack\")\n",
    "elif (oldcastlescore == opponentscore):\n",
    "    print(\"Stay solid, But exploit opportunity!\")\n",
    "else:\n",
    "    print(\"10 men behind the ball!!!\")"
   ]
  },
  {
   "cell_type": "code",
   "execution_count": 25,
   "id": "94db18df-4498-49e6-b080-0c046041235a",
   "metadata": {},
   "outputs": [],
   "source": [
    "#For Loops"
   ]
  },
  {
   "cell_type": "code",
   "execution_count": 22,
   "id": "5158810d-1a9f-4caa-87e2-0f6be6d6f166",
   "metadata": {},
   "outputs": [
    {
     "name": "stdout",
     "output_type": "stream",
     "text": [
      "Welcome to the cage,Nasta\n",
      "Welcome to the cage,Overvenus\n",
      "Welcome to the cage,Ranalda\n"
     ]
    }
   ],
   "source": [
    "TeamA=[\"Nasta\",\"Overvenus\",\"Ranalda\"]\n",
    "for i in TeamA:\n",
    "    print(\"Welcome to the cage,\"+ i)"
   ]
  },
  {
   "cell_type": "code",
   "execution_count": 24,
   "id": "b67261a0-7cb7-4cba-8d6f-6035442a58cf",
   "metadata": {},
   "outputs": [
    {
     "name": "stdout",
     "output_type": "stream",
     "text": [
      "Welcome to the cage,Nasta\n",
      "Welcome to the cage,Overvenus\n",
      "Welcome to the cage,Ranalda\n",
      "Welcome to the cage,Tatti\n",
      "Welcome to the cage,Nikita\n",
      "Welcome to the cage,Hanry\n"
     ]
    }
   ],
   "source": [
    "TeamB=[\"Tatti\",\"Nikita\",\"Hanry\"]\n",
    "Teams= [TeamA,TeamB]\n",
    "for Team in Teams:\n",
    "    for i in Team:\n",
    "        print(\"Welcome to the cage,\" + i)"
   ]
  },
  {
   "cell_type": "code",
   "execution_count": 26,
   "id": "6d9e2350-1652-4a0d-a22e-8a124c437a9d",
   "metadata": {},
   "outputs": [],
   "source": [
    "#While Loops"
   ]
  },
  {
   "cell_type": "code",
   "execution_count": 30,
   "id": "bde949f0-7b47-46fb-bb4d-4674fc8c65eb",
   "metadata": {},
   "outputs": [
    {
     "name": "stdout",
     "output_type": "stream",
     "text": [
      "45 Played, Thats Halftime!\n"
     ]
    }
   ],
   "source": [
    "watchminutes=0\n",
    "while watchminutes<45:\n",
    "    watchminutes +=1\n",
    "print(watchminutes, \"Played, Thats Halftime!\" )"
   ]
  },
  {
   "cell_type": "code",
   "execution_count": 37,
   "id": "a42c18bd-2660-449c-a714-d9f338b5a35c",
   "metadata": {},
   "outputs": [
    {
     "name": "stdout",
     "output_type": "stream",
     "text": [
      "1\n"
     ]
    }
   ],
   "source": [
    "import random\n",
    "\n",
    "keeppossesion= True\n",
    "passskill=82.5\n",
    "passescompleted=0\n",
    "\n",
    "while keeppossesion == True:\n",
    "    if random.randint(0,100)>passskill:\n",
    "        keeppossesion = False\n",
    "    else:\n",
    "        passescompleted += 1\n",
    "print(passescompleted)"
   ]
  },
  {
   "cell_type": "code",
   "execution_count": 38,
   "id": "9d21d668-ab3b-4076-8cdf-ba829b022660",
   "metadata": {},
   "outputs": [],
   "source": [
    "#Lists"
   ]
  },
  {
   "cell_type": "code",
   "execution_count": 39,
   "id": "b307fe09-f25d-4253-99ad-291e5d908ec7",
   "metadata": {},
   "outputs": [
    {
     "name": "stdout",
     "output_type": "stream",
     "text": [
      "[0, 0, 3, 2, 1, 5, 3, 1, 2]\n",
      "[2, 0, 2, 2, 3, 2, 3, 2, 4]\n"
     ]
    }
   ],
   "source": [
    "gf=[0,0,3,2,1,5,3,1,2]\n",
    "ga=[2,0,2,2,3,2,3,2,4]\n",
    "\n",
    "print(gf)\n",
    "print(ga)"
   ]
  },
  {
   "cell_type": "code",
   "execution_count": 40,
   "id": "064680f3-81ed-4729-bfa6-0e09831aca0f",
   "metadata": {},
   "outputs": [
    {
     "name": "stdout",
     "output_type": "stream",
     "text": [
      "0\n",
      "2\n"
     ]
    }
   ],
   "source": [
    "print(gf[0])\n",
    "print(ga[0])"
   ]
  },
  {
   "cell_type": "code",
   "execution_count": 42,
   "id": "45d63cec-4db0-4778-96d2-dfb8fe34fa4e",
   "metadata": {},
   "outputs": [
    {
     "data": {
      "text/plain": [
       "-2"
      ]
     },
     "execution_count": 42,
     "metadata": {},
     "output_type": "execute_result"
    }
   ],
   "source": [
    "gf[0] - ga[0]"
   ]
  },
  {
   "cell_type": "code",
   "execution_count": 43,
   "id": "a84a67b9-97d1-47db-a4e7-8224107a4ad4",
   "metadata": {},
   "outputs": [
    {
     "name": "stdout",
     "output_type": "stream",
     "text": [
      "9\n",
      "-3\n"
     ]
    }
   ],
   "source": [
    "p=0\n",
    "gd=0\n",
    "gf=[0,0,3,2,1,5,3,1,2]\n",
    "ga=[2,0,2,2,3,2,3,2,4]\n",
    "for i in range(9):\n",
    "    if gf[i]>ga[i]:\n",
    "        p += 3 \n",
    "        gd += gf[i] - ga[i]\n",
    "    elif (gf[i]==ga[i]):\n",
    "        p += 1 \n",
    "    else:\n",
    "        gd += gf[i] - ga[i]\n",
    "print(p)\n",
    "print(gd)"
   ]
  },
  {
   "cell_type": "code",
   "execution_count": 1,
   "id": "ad4ff4fb-589a-40e6-907b-48ca2dd299e2",
   "metadata": {},
   "outputs": [
    {
     "ename": "NameError",
     "evalue": "name 'math' is not defined",
     "output_type": "error",
     "traceback": [
      "\u001b[1;31m---------------------------------------------------------------------------\u001b[0m",
      "\u001b[1;31mNameError\u001b[0m                                 Traceback (most recent call last)",
      "Cell \u001b[1;32mIn[1], line 1\u001b[0m\n\u001b[1;32m----> 1\u001b[0m math\u001b[38;5;241m.\u001b[39mpi()\n",
      "\u001b[1;31mNameError\u001b[0m: name 'math' is not defined"
     ]
    }
   ],
   "source": [
    "math.pi()\n"
   ]
  },
  {
   "cell_type": "code",
   "execution_count": 3,
   "id": "f4285429-c71b-4cf8-8b6e-396218d9d125",
   "metadata": {},
   "outputs": [
    {
     "name": "stdout",
     "output_type": "stream",
     "text": [
      "3.141592653589793\n"
     ]
    }
   ],
   "source": [
    "import math\n",
    "\n",
    "print(math.pi)"
   ]
  },
  {
   "cell_type": "code",
   "execution_count": 5,
   "id": "dcefb6b9-68ff-4e68-bbe8-826014ce9ef5",
   "metadata": {},
   "outputs": [
    {
     "data": {
      "text/plain": [
       "array([0, 2, 4, 6, 8])"
      ]
     },
     "execution_count": 5,
     "metadata": {},
     "output_type": "execute_result"
    }
   ],
   "source": [
    "import pandas as pd \n",
    "import numpy as np\n",
    "\n",
    "np.arange(0,10,2)"
   ]
  },
  {
   "cell_type": "code",
   "execution_count": 6,
   "id": "ba99a35b-50a5-4f88-9203-2e47d03ac262",
   "metadata": {},
   "outputs": [],
   "source": [
    "#Functions"
   ]
  },
  {
   "cell_type": "code",
   "execution_count": 7,
   "id": "9a7f5e4a-c000-49d3-bb06-70b7b7957513",
   "metadata": {},
   "outputs": [
    {
     "data": {
      "text/plain": [
       "4"
      ]
     },
     "execution_count": 7,
     "metadata": {},
     "output_type": "execute_result"
    }
   ],
   "source": [
    "def Doubleme(num):\n",
    "    return num*2\n",
    "\n",
    "Doubleme(2)"
   ]
  },
  {
   "cell_type": "code",
   "execution_count": 12,
   "id": "1d640b39-5575-45ab-bde4-2133e439c0ac",
   "metadata": {},
   "outputs": [
    {
     "name": "stdout",
     "output_type": "stream",
     "text": [
      "Pearlo plays a shot.GOOOOAAAALLLLLLLL\n"
     ]
    }
   ],
   "source": [
    "def newTweet(player,action,success):\n",
    "    tweet= str(player)+\" plays a \"+str(action)+\".\"\n",
    "    if(success==True):\n",
    "        if action==\"pass\":\n",
    "            tweet += \"Team Keeps Possesion\"\n",
    "        elif action==\"shot\":\n",
    "            tweet += \"GOOOOAAAALLLLLLLL\"\n",
    "    else:\n",
    "        if action==\"pass\":\n",
    "            tweet += \"Team Loses Possesion\"\n",
    "        elif action==\"shot\":\n",
    "            tweet += \"Shot missed\"\n",
    "    print(tweet)\n",
    "\n",
    "newTweet(\"Pearlo\",\"shot\",True)"
   ]
  },
  {
   "cell_type": "code",
   "execution_count": 13,
   "id": "68400a41-4549-4ac1-862a-03c8a9778d31",
   "metadata": {},
   "outputs": [],
   "source": [
    "#Random"
   ]
  },
  {
   "cell_type": "code",
   "execution_count": 16,
   "id": "20383f07-c773-411f-b481-7656d28593f7",
   "metadata": {},
   "outputs": [
    {
     "data": {
      "text/plain": [
       "98"
      ]
     },
     "execution_count": 16,
     "metadata": {},
     "output_type": "execute_result"
    }
   ],
   "source": [
    "import random\n",
    "\n",
    "int(random.random()*100)"
   ]
  },
  {
   "cell_type": "code",
   "execution_count": 17,
   "id": "23da080e-0dd0-40d8-a3a5-16822bc17da9",
   "metadata": {},
   "outputs": [],
   "source": [
    "HomexG=[0.21,0.66,0.1,0.14,0.01]\n",
    "AwayxG=[0.04,0.06,0.01,0.04,0.06,0.12,0.01,0.06]"
   ]
  },
  {
   "cell_type": "code",
   "execution_count": 24,
   "id": "ffc79673-3d08-4845-a9d0-3ff10a147259",
   "metadata": {},
   "outputs": [
    {
     "name": "stdout",
     "output_type": "stream",
     "text": [
      "Missed\n"
     ]
    }
   ],
   "source": [
    "if random.random()>=0.21:\n",
    "    print(\"Goal\")\n",
    "else:\n",
    "    print(\"Missed\")"
   ]
  },
  {
   "cell_type": "code",
   "execution_count": 27,
   "id": "832e1b7d-c3a8-42f1-9fbb-7682ee441d29",
   "metadata": {},
   "outputs": [
    {
     "name": "stdout",
     "output_type": "stream",
     "text": [
      "7875\n"
     ]
    }
   ],
   "source": [
    "goals=0\n",
    "for i in range(0,10000):\n",
    "    if random.random()>=0.21:\n",
    "        goals += 1\n",
    "print(goals)"
   ]
  },
  {
   "cell_type": "code",
   "execution_count": 46,
   "id": "ace5e827-0c76-4556-8725-5dff41b22780",
   "metadata": {},
   "outputs": [
    {
     "name": "stdout",
     "output_type": "stream",
     "text": [
      "Home Wins! 2 - 0\n"
     ]
    }
   ],
   "source": [
    "def calculateWinner(home,away):\n",
    "    HomeGoals=0\n",
    "    AwayGoals=0\n",
    "    def testshots(shots):\n",
    "        goals=0\n",
    "        for shot in shots:\n",
    "            if random.random() <= shot:\n",
    "                goals += 1\n",
    "        return goals\n",
    "    HomeGoals= testshots(home)\n",
    "    AwayGoals= testshots(away)\n",
    "    if HomeGoals>AwayGoals:\n",
    "        print(\"Home Wins! \" + str(HomeGoals)+\" - \"+ str(AwayGoals))\n",
    "    elif HomeGoals==AwayGoals:\n",
    "        print(\"Its a draw! \" + str(HomeGoals)+\" - \"+ str(AwayGoals))\n",
    "    else:\n",
    "        print(\"Away Wins! \" + str(HomeGoals)+\" - \"+ str(AwayGoals))   \n",
    "\n",
    "calculateWinner(HomexG,AwayxG)"
   ]
  },
  {
   "cell_type": "code",
   "execution_count": null,
   "id": "808f3e5e-f304-400e-9106-f3dc277edc2c",
   "metadata": {},
   "outputs": [],
   "source": []
  }
 ],
 "metadata": {
  "kernelspec": {
   "display_name": "Python 3 (ipykernel)",
   "language": "python",
   "name": "python3"
  },
  "language_info": {
   "codemirror_mode": {
    "name": "ipython",
    "version": 3
   },
   "file_extension": ".py",
   "mimetype": "text/x-python",
   "name": "python",
   "nbconvert_exporter": "python",
   "pygments_lexer": "ipython3",
   "version": "3.13.5"
  }
 },
 "nbformat": 4,
 "nbformat_minor": 5
}

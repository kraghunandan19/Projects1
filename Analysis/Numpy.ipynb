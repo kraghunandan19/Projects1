{
 "cells": [
  {
   "cell_type": "code",
   "execution_count": 2,
   "id": "cce84cfa-3516-4240-84e6-2c400537e4c2",
   "metadata": {},
   "outputs": [],
   "source": [
    "#Numpy"
   ]
  },
  {
   "cell_type": "code",
   "execution_count": 3,
   "id": "ff777f59-604f-486f-beb3-d5a6a40af3e9",
   "metadata": {},
   "outputs": [],
   "source": [
    "import numpy as np"
   ]
  },
  {
   "cell_type": "code",
   "execution_count": 4,
   "id": "798b53ad-6747-4d8c-9f36-0dfef21bff50",
   "metadata": {},
   "outputs": [
    {
     "name": "stdout",
     "output_type": "stream",
     "text": [
      "['Kaller' 'Fradeel' 'Hayward' 'Honeyman']\n"
     ]
    }
   ],
   "source": [
    "GKnames=[\"Kaller\",\"Fradeel\",\"Hayward\",\"Honeyman\"]\n",
    "GKheights=[184,188,191,193]\n",
    "GKweights=[81,85,103,99]\n",
    "\n",
    "print(np.array(GKnames))"
   ]
  },
  {
   "cell_type": "code",
   "execution_count": 5,
   "id": "f6ef5a58-8b86-4f6b-adc5-2e3b11459c5d",
   "metadata": {},
   "outputs": [
    {
     "name": "stdout",
     "output_type": "stream",
     "text": [
      "[['Kaller' 'Fradeel' 'Hayward' 'Honeyman']\n",
      " ['184' '188' '191' '193']\n",
      " ['81' '85' '103' '99']]\n"
     ]
    }
   ],
   "source": [
    "GKmatrix=[GKnames,GKheights,GKweights]\n",
    "print(np.array(GKmatrix))"
   ]
  },
  {
   "cell_type": "code",
   "execution_count": 6,
   "id": "829763aa-28ee-4144-a256-3b934b390f9e",
   "metadata": {},
   "outputs": [
    {
     "data": {
      "text/plain": [
       "array([ 0,  1,  2,  3,  4,  5,  6,  7,  8,  9, 10, 11])"
      ]
     },
     "execution_count": 6,
     "metadata": {},
     "output_type": "execute_result"
    }
   ],
   "source": [
    "np.arange(0,12)"
   ]
  },
  {
   "cell_type": "code",
   "execution_count": 7,
   "id": "eee1ef97-f9aa-4bcf-8bf9-f60c0a55b83a",
   "metadata": {},
   "outputs": [],
   "source": [
    "import random"
   ]
  },
  {
   "cell_type": "code",
   "execution_count": 11,
   "id": "b7a4551e-6cb7-4e04-bb79-a45487a59909",
   "metadata": {},
   "outputs": [
    {
     "name": "stdout",
     "output_type": "stream",
     "text": [
      "[[-0.46031709  1.05340649  0.90530547]\n",
      " [ 1.50250095  1.57723138 -0.89439373]\n",
      " [-1.11653016 -1.27510275 -0.41801186]]\n",
      "[[60 21 86]\n",
      " [46 40 83]\n",
      " [40 98 68]]\n"
     ]
    }
   ],
   "source": [
    "print(np.random.randn(3,3))\n",
    "print(np.random.randint(1,100,(3,3)))"
   ]
  },
  {
   "cell_type": "code",
   "execution_count": 12,
   "id": "71d551e0-cf43-4a14-9ceb-f5e31e6126a4",
   "metadata": {},
   "outputs": [],
   "source": [
    "GKheights=np.array(GKheights)"
   ]
  },
  {
   "cell_type": "code",
   "execution_count": 13,
   "id": "2aeac977-6a3e-4a08-bdbc-b72db8bccbc4",
   "metadata": {},
   "outputs": [
    {
     "data": {
      "text/plain": [
       "np.int64(193)"
      ]
     },
     "execution_count": 13,
     "metadata": {},
     "output_type": "execute_result"
    }
   ],
   "source": [
    "GKheights.max()"
   ]
  },
  {
   "cell_type": "code",
   "execution_count": 14,
   "id": "1a8fe6cf-aa3e-41f2-9495-282beaa71c81",
   "metadata": {},
   "outputs": [
    {
     "data": {
      "text/plain": [
       "np.int64(3)"
      ]
     },
     "execution_count": 14,
     "metadata": {},
     "output_type": "execute_result"
    }
   ],
   "source": [
    "GKheights.argmax()"
   ]
  },
  {
   "cell_type": "code",
   "execution_count": 15,
   "id": "d0238c8a-b25d-435c-a2ac-b7a53357168b",
   "metadata": {},
   "outputs": [
    {
     "data": {
      "text/plain": [
       "'Honeyman'"
      ]
     },
     "execution_count": 15,
     "metadata": {},
     "output_type": "execute_result"
    }
   ],
   "source": [
    "GKnames[GKheights.argmax()]"
   ]
  },
  {
   "cell_type": "code",
   "execution_count": 19,
   "id": "2998db3f-ca3c-45b5-9441-620d559111ef",
   "metadata": {},
   "outputs": [
    {
     "name": "stdout",
     "output_type": "stream",
     "text": [
      "[1930 1934 1938 1950 1954 1958 1962 1966 1970 1974 1978 1982 1986 1990\n",
      " 1994 1998 2002 2006 2010 2014]\n"
     ]
    }
   ],
   "source": [
    "WcYears=np.arange(1930,2018,4)\n",
    "WcYears=np.delete(WcYears,(3,4))\n",
    "print(WcYears)"
   ]
  },
  {
   "cell_type": "code",
   "execution_count": 20,
   "id": "5f042487-75c4-4643-b058-881ca4093f84",
   "metadata": {},
   "outputs": [
    {
     "name": "stdout",
     "output_type": "stream",
     "text": [
      "[['2002' '2006' '2010' '2014']\n",
      " ['Japan/Korea' 'Germany' 'South Africa' 'Brazil']\n",
      " ['Brazil' 'Italy' 'Spain' 'Germany']]\n"
     ]
    }
   ],
   "source": [
    "WCyears=[2002,2006,2010,2014]\n",
    "WChosts=[\"Japan/Korea\",\"Germany\",\"South Africa\",\"Brazil\"]\n",
    "WCwinners=[\"Brazil\",\"Italy\",\"Spain\",\"Germany\"]\n",
    "WCarray=np.array((WCyears,WChosts,WCwinners))\n",
    "print(WCarray)"
   ]
  },
  {
   "cell_type": "code",
   "execution_count": 21,
   "id": "6a555526-f3e1-44e6-9ea4-d18101828372",
   "metadata": {},
   "outputs": [
    {
     "data": {
      "text/plain": [
       "np.str_('South Africa')"
      ]
     },
     "execution_count": 21,
     "metadata": {},
     "output_type": "execute_result"
    }
   ],
   "source": [
    "WCarray[1,2]"
   ]
  },
  {
   "cell_type": "code",
   "execution_count": 22,
   "id": "c6776f8a-8361-4455-bc7d-f472700c79fc",
   "metadata": {},
   "outputs": [
    {
     "data": {
      "text/plain": [
       "np.str_('Germany')"
      ]
     },
     "execution_count": 22,
     "metadata": {},
     "output_type": "execute_result"
    }
   ],
   "source": [
    "WCarray[2,-1]"
   ]
  },
  {
   "cell_type": "code",
   "execution_count": 23,
   "id": "7003286e-19e3-4f91-a44a-033b5a831532",
   "metadata": {},
   "outputs": [
    {
     "name": "stdout",
     "output_type": "stream",
     "text": [
      "[['1966' '1970' '1974' '1978']\n",
      " ['Eusebio' 'Muller' 'Lato' 'Kempes']\n",
      " ['9' '10' '7' '6']]\n"
     ]
    }
   ],
   "source": [
    "WCyears=np.array([1966,1970,1974,1978])\n",
    "WCtopscorers=np.array([\"Eusebio\",\"Muller\",\"Lato\",\"Kempes\"])\n",
    "WCgoals=np.array([9,10,7,6])\n",
    "WC=np.array((WCyears,WCtopscorers,WCgoals))\n",
    "print(WC)"
   ]
  },
  {
   "cell_type": "code",
   "execution_count": 25,
   "id": "b51d5f90-f82c-47ba-aebf-f5f1dcc1bf30",
   "metadata": {},
   "outputs": [
    {
     "name": "stdout",
     "output_type": "stream",
     "text": [
      "Muller\n"
     ]
    }
   ],
   "source": [
    "print(WCtopscorers[WCgoals.argmax()])"
   ]
  },
  {
   "cell_type": "code",
   "execution_count": 3,
   "id": "1afd06f3-2513-4308-8498-2f8d57f8e823",
   "metadata": {},
   "outputs": [
    {
     "ename": "NameError",
     "evalue": "name 'WCgoals' is not defined",
     "output_type": "error",
     "traceback": [
      "\u001b[1;31m---------------------------------------------------------------------------\u001b[0m",
      "\u001b[1;31mNameError\u001b[0m                                 Traceback (most recent call last)",
      "Cell \u001b[1;32mIn[3], line 1\u001b[0m\n\u001b[1;32m----> 1\u001b[0m \u001b[38;5;28mprint\u001b[39m(WCgoals\u001b[38;5;241m.\u001b[39mmax())\n",
      "\u001b[1;31mNameError\u001b[0m: name 'WCgoals' is not defined"
     ]
    }
   ],
   "source": [
    "print(WCgoals.max())"
   ]
  },
  {
   "cell_type": "code",
   "execution_count": 2,
   "id": "f632a027-d90a-451f-9a82-4ed20daed566",
   "metadata": {},
   "outputs": [],
   "source": [
    "#Pandas "
   ]
  },
  {
   "cell_type": "code",
   "execution_count": null,
   "id": "f7e08515-1e11-43c5-a8c1-54ffcaae4d8b",
   "metadata": {},
   "outputs": [],
   "source": [
    "import numpy as np\n",
    "import pandas as pd"
   ]
  }
 ],
 "metadata": {
  "kernelspec": {
   "display_name": "Python 3 (ipykernel)",
   "language": "python",
   "name": "python3"
  },
  "language_info": {
   "codemirror_mode": {
    "name": "ipython",
    "version": 3
   },
   "file_extension": ".py",
   "mimetype": "text/x-python",
   "name": "python",
   "nbconvert_exporter": "python",
   "pygments_lexer": "ipython3",
   "version": "3.13.5"
  }
 },
 "nbformat": 4,
 "nbformat_minor": 5
}
